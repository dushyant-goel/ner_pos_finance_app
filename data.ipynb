{
 "cells": [
  {
   "cell_type": "code",
   "execution_count": 5,
   "id": "4fc1c703",
   "metadata": {},
   "outputs": [],
   "source": [
    "from datasets import load_dataset\n",
    "\n",
    "# Load the CoNLL-2003 dataset\n",
    "dataset = load_dataset(\"conll2003\", split='train')\n",
    "\n",
    "# Get tag mapping\n",
    "ner_label_map = dataset.features[\"ner_tags\"].feature.names\n",
    "pos_label_map = dataset.features[\"pos_tags\"].feature.names\n",
    "\n",
    "# Save file to CoNLL format\n",
    "def save_as_conll(dataset, filename):\n",
    "    with open(filename, \"w\", encoding=\"utf-8\") as f:\n",
    "        for example in dataset:\n",
    "            for token, pos_id, ner_id in zip(example['tokens'], example['pos_tags'], example['ner_tags']):\n",
    "                pos_tag = pos_label_map[pos_id]\n",
    "                ner_tag = ner_label_map[ner_id]\n",
    "                f.write(f\"{token} {pos_tag} - {ner_tag}\\n\")\n",
    "            f.write(\"\\n\")\n",
    "\n",
    "save_as_conll(dataset, \"data/conll2003_train.txt\")"
   ]
  }
 ],
 "metadata": {
  "kernelspec": {
   "display_name": "nlp",
   "language": "python",
   "name": "python3"
  },
  "language_info": {
   "codemirror_mode": {
    "name": "ipython",
    "version": 3
   },
   "file_extension": ".py",
   "mimetype": "text/x-python",
   "name": "python",
   "nbconvert_exporter": "python",
   "pygments_lexer": "ipython3",
   "version": "3.9.23"
  }
 },
 "nbformat": 4,
 "nbformat_minor": 5
}
